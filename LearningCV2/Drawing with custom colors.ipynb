{
 "cells": [
  {
   "cell_type": "code",
   "execution_count": 10,
   "metadata": {},
   "outputs": [
    {
     "name": "stdout",
     "output_type": "stream",
     "text": [
      "(0, 0, 51)\n",
      "(0, 0, 255)\n",
      "(0, 136, 0)\n",
      "(102, 0, 0)\n",
      "(102, 0, 0)\n",
      "(102, 0, 0)\n"
     ]
    }
   ],
   "source": [
    "# importing needed libraries\n",
    "\n",
    "import cv2\n",
    "import numpy as np\n",
    "\n",
    "img = np.zeros((512, 512, 3), np.uint8)\n",
    "\n",
    "def emptyFunction(self):\n",
    "    pass\n",
    "\n",
    "def drawcircle(event, x, y, flags, param):\n",
    "    # if left button is clicked\n",
    "    if event == cv2.EVENT_LBUTTONDOWN:\n",
    "        # drawing a circle\n",
    "        cv2.circle(img, (x,y), 20, param, -1)\n",
    "        print(param)\n",
    "        \n",
    "    elif event == cv2.EVENT_LBUTTONDBLCLK:\n",
    "        # drawing a circle\n",
    "        cv2.circle(img, (x,y), 40, param, -1)\n",
    "        print(param)\n",
    "        \n",
    "    elif event == cv2.EVENT_RBUTTONDOWN:\n",
    "        # drawing a circle\n",
    "        cv2.circle(img, (x,y), 60, param, -1)\n",
    "        print(param)\n",
    "        \n",
    "    elif event == cv2.EVENT_MBUTTONDOWN:\n",
    "          img[:] = [0,0,0]\n",
    "       \n",
    "def main():\n",
    "    \n",
    "    #Creating a window and assigning a universal window name\n",
    "    windowname = 'Drawing with custom RGB colors'\n",
    "    cv2.namedWindow(windowname)\n",
    "    \n",
    "    # Creating the trackbars\n",
    "    cv2.createTrackbar('R', windowname, 0, 255, emptyFunction)\n",
    "    cv2.createTrackbar('G', windowname, 0, 255, emptyFunction)\n",
    "    cv2.createTrackbar('B', windowname, 0, 255, emptyFunction)\n",
    "    \n",
    "    \n",
    "    cv2.setMouseCallback(windowname,drawcircle)\n",
    "    \n",
    "    # Actual function\n",
    "    while(True):\n",
    "        cv2.imshow(windowname, img)\n",
    "        \n",
    "        # If esc is hit, break\n",
    "        if cv2.waitKey(1) == 27:\n",
    "            break\n",
    "        \n",
    "        #getting RGB values based on trackbar locations\n",
    "        blue = cv2.getTrackbarPos('B', windowname)\n",
    "        green = cv2.getTrackbarPos('G', windowname)\n",
    "        red = cv2.getTrackbarPos('R', windowname)\n",
    "        current_rgb = (blue, green, red)\n",
    "        #current_rgb = (red, blue, green)\n",
    "        \n",
    "        cv2.setMouseCallback(windowname,drawcircle, current_rgb)\n",
    "        \n",
    "        \n",
    "        \n",
    "    # Close window    \n",
    "    cv2.destroyAllWindows()\n",
    "\n",
    "if __name__ == \"__main__\":\n",
    "    main()\n",
    "    \n",
    "    "
   ]
  }
 ],
 "metadata": {
  "kernelspec": {
   "display_name": "Python 3",
   "language": "python",
   "name": "python3"
  },
  "language_info": {
   "codemirror_mode": {
    "name": "ipython",
    "version": 3
   },
   "file_extension": ".py",
   "mimetype": "text/x-python",
   "name": "python",
   "nbconvert_exporter": "python",
   "pygments_lexer": "ipython3",
   "version": "3.5.4"
  }
 },
 "nbformat": 4,
 "nbformat_minor": 2
}
