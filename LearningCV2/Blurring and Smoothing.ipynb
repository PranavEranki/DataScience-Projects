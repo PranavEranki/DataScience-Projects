{
 "cells": [
  {
   "cell_type": "code",
   "execution_count": 1,
   "metadata": {},
   "outputs": [],
   "source": [
    "# Extension of previous code\n",
    "import cv2\n",
    "import numpy as np"
   ]
  },
  {
   "cell_type": "code",
   "execution_count": 2,
   "metadata": {},
   "outputs": [],
   "source": [
    "cap = cv2.VideoCapture(0)\n",
    "# Tested with yellow water bottle\n",
    "while(True): #checking for video capture to be open\n",
    "    ret, frame = cap.read() #Getting frame image\n",
    "    \n",
    "    if not (ret):\n",
    "        print (\"yoink its wrong\") #sanity check\n",
    "        \n",
    "    hsv = cv2.cvtColor(frame, cv2.COLOR_BGR2HSV) #Hue, saturation, value, convert to bgr2hsv values\n",
    "    \n",
    "    lower_yellow = np.array([20, 100, 100]) #min hsv vals\n",
    "    upper_yellow = np.array([255,255,255])#max hsv vals\n",
    "    \n",
    "    mask = cv2.inRange(hsv, lower_yellow, upper_yellow) #everything thats within those ranges\n",
    "    res = cv2.bitwise_and(frame, frame, mask = mask) #Where there is something in frame and mask is true, so hsv in range\n",
    "    \n",
    "    #We lose background noise and clarity/granularity\n",
    "    kernel = np.ones((15,15), dtype=np.float32) / 225 #15x15 pixels. Can go smaller\n",
    "    smooth = cv2.filter2D(res, -1, kernel) #Simple kernel\n",
    "    \n",
    "    #We lose some pixels in image itself, but lose noise\n",
    "    blur = cv2.GaussianBlur(res,(15,15),0)\n",
    "    cv2.imshow('Gaussian Blurring',blur)\n",
    "    \n",
    "    median = cv2.medianBlur(res,15)\n",
    "    cv2.imshow('Median Blur',median)\n",
    "    \n",
    "    bilateral = cv2.bilateralFilter(res,15,75,75)\n",
    "    cv2.imshow('bilateral Blur',bilateral)\n",
    "    \n",
    "    #Show the images\n",
    "    cv2.imshow('frame',frame) #Raw frame input\n",
    "    cv2.imshow('res',res)#The color we want\n",
    "    cv2.imshow('smooth', smooth)#Smoothing\n",
    "    cv2.imshow('Gaussian', blur)#Gaussian blurred \n",
    "    cv2.imshow('Median', median)#Median blurring\n",
    "    cv2.imshow('Bilateral', bilateral)\n",
    "    \n",
    "    k = cv2.waitKey(5) & 0xFF #Press Esc to close\n",
    "    if k == 27:\n",
    "        break\n",
    "\n",
    "cv2.destroyAllWindows() #Close python windows\n",
    "cap.release() #Stop using camera"
   ]
  }
 ],
 "metadata": {
  "kernelspec": {
   "display_name": "Python 3",
   "language": "python",
   "name": "python3"
  },
  "language_info": {
   "codemirror_mode": {
    "name": "ipython",
    "version": 3
   },
   "file_extension": ".py",
   "mimetype": "text/x-python",
   "name": "python",
   "nbconvert_exporter": "python",
   "pygments_lexer": "ipython3",
   "version": "3.5.4"
  }
 },
 "nbformat": 4,
 "nbformat_minor": 2
}
