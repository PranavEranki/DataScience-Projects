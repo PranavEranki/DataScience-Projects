{
 "cells": [
  {
   "cell_type": "code",
   "execution_count": 1,
   "metadata": {},
   "outputs": [],
   "source": [
    "import cv2\n",
    "import numpy as np"
   ]
  },
  {
   "cell_type": "code",
   "execution_count": 3,
   "metadata": {},
   "outputs": [],
   "source": [
    "cap = cv2.VideoCapture(0)\n",
    "# Tested with yellow water bottle\n",
    "while(True):\n",
    "    _, frame = cap.read() #Getting frame image\n",
    "    hsv = cv2.cvtColor(frame, cv2.COLOR_BGR2HSV )#Hue, saturation, value, convert to bgr2hsv values\n",
    "    \n",
    "    lower_yellow = np.array([20, 100, 100]) #min hsv vals\n",
    "    upper_yellow = np.array([255,255,255])#max hsv vals\n",
    "    \n",
    "    mask = cv2.inRange(hsv, lower_yellow, upper_yellow) #everything thats within those ranges\n",
    "    res = cv2.bitwise_and(frame, frame, mask = mask) #Where there is something in frame and mask is true, so hsv in range\n",
    "    \n",
    "    #Show the images\n",
    "    cv2.imshow('frame',frame) #Raw frame input\n",
    "    cv2.imshow('mask',mask) #Boolean, so black/white\n",
    "    cv2.imshow('res',res)#The actual color we want\n",
    "    \n",
    "    k = cv2.waitKey(5) & 0xFF #Press Esc to close\n",
    "    if k == 27:\n",
    "        break\n",
    "\n",
    "cv2.destroyAllWindows() #Close python windows\n",
    "cap.release() #Stop using camera"
   ]
  }
 ],
 "metadata": {
  "kernelspec": {
   "display_name": "Python 3",
   "language": "python",
   "name": "python3"
  },
  "language_info": {
   "codemirror_mode": {
    "name": "ipython",
    "version": 3
   },
   "file_extension": ".py",
   "mimetype": "text/x-python",
   "name": "python",
   "nbconvert_exporter": "python",
   "pygments_lexer": "ipython3",
   "version": "3.5.4"
  }
 },
 "nbformat": 4,
 "nbformat_minor": 2
}
