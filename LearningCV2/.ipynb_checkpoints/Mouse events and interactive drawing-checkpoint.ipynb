{
 "cells": [
  {
   "cell_type": "code",
   "execution_count": 5,
   "metadata": {},
   "outputs": [
    {
     "name": "stdout",
     "output_type": "stream",
     "text": [
      "['EVENT_FLAG_ALTKEY', 'EVENT_FLAG_CTRLKEY', 'EVENT_FLAG_LBUTTON', 'EVENT_FLAG_MBUTTON', 'EVENT_FLAG_RBUTTON', 'EVENT_FLAG_SHIFTKEY', 'EVENT_LBUTTONDBLCLK', 'EVENT_LBUTTONDOWN', 'EVENT_LBUTTONUP', 'EVENT_MBUTTONDBLCLK', 'EVENT_MBUTTONDOWN', 'EVENT_MBUTTONUP', 'EVENT_MOUSEHWHEEL', 'EVENT_MOUSEMOVE', 'EVENT_MOUSEWHEEL', 'EVENT_RBUTTONDBLCLK', 'EVENT_RBUTTONDOWN', 'EVENT_RBUTTONUP']\n"
     ]
    }
   ],
   "source": [
    "'''\n",
    "# This displays \n",
    "import cv2\n",
    "import numpy as np\n",
    "\n",
    "def main():\n",
    "    events = [i for i in dir(cv2) if 'EVENT' in i]\n",
    "    print(events)\n",
    "        \n",
    "if __name__ == \"__main__\":\n",
    "    main()\n",
    "    '''"
   ]
  },
  {
   "cell_type": "code",
   "execution_count": 11,
   "metadata": {},
   "outputs": [],
   "source": [
    "import cv2\n",
    "import numpy as np\n",
    "\n",
    "windowname='Drawing'\n",
    "\n",
    "cv2.namedWindow(windowname)\n",
    "\n",
    "def drawcircle(event, x, y, flags, param):\n",
    "    # if left button is clicked\n",
    "    if event == cv2.EVENT_LBUTTONDOWN:\n",
    "        # drawing a circle\n",
    "        cv2.circle(img, (x,y), 20, (0,255,0), -1)\n",
    "    elif event == cv2.EVENT_LBUTTONDBLCLK:\n",
    "        # drawing a circle\n",
    "        cv2.circle(img, (x,y), 40, (255,0,0), -1)\n",
    "    elif event == cv2.EVENT_RBUTTONDOWN:\n",
    "        # drawing a circle\n",
    "        cv2.circle(img, (x,y), 60, (0,0,255), -1)\n",
    "    elif event == cv2.EVENT_MBUTTONDOWN:\n",
    "          img[:] = [0,0,0]\n",
    "            \n",
    "    \n",
    "# binding function to a window\n",
    "cv2.setMouseCallback(windowname,drawcircle)\n",
    "\n",
    "def main():\n",
    "    while(True):\n",
    "        cv2.imshow(windowname, img)\n",
    "        if cv2.waitKey(1) == 27:\n",
    "            break\n",
    "            \n",
    "    cv2.destroyAllWindows()\n",
    "        \n",
    "if __name__ == \"__main__\":\n",
    "    main()"
   ]
  }
 ],
 "metadata": {
  "kernelspec": {
   "display_name": "Python 3",
   "language": "python",
   "name": "python3"
  },
  "language_info": {
   "codemirror_mode": {
    "name": "ipython",
    "version": 3
   },
   "file_extension": ".py",
   "mimetype": "text/x-python",
   "name": "python",
   "nbconvert_exporter": "python",
   "pygments_lexer": "ipython3",
   "version": "3.5.4"
  }
 },
 "nbformat": 4,
 "nbformat_minor": 2
}
