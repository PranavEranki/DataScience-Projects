{
 "cells": [
  {
   "cell_type": "code",
   "execution_count": 4,
   "metadata": {},
   "outputs": [
    {
     "name": "stdout",
     "output_type": "stream",
     "text": [
      "0 0 0\n"
     ]
    }
   ],
   "source": [
    "# importing needed libraries\n",
    "\n",
    "import cv2\n",
    "import numpy as np\n",
    "\n",
    "def emptyFunction():\n",
    "    pass\n",
    "\n",
    "def main():\n",
    "    #Creating a black img, 512 x 512 with 3 dimensions for R, G, and B\n",
    "    img = np.zeros((512, 512, 3), np.uint8)\n",
    "    \n",
    "    #Creating a window and assigning a universal window name\n",
    "    windowName = 'OpenCV BGR Color Palette'\n",
    "    cv2.namedWindow(windowName)\n",
    "    \n",
    "    # Creating the trackbars\n",
    "    cv2.createTrackbar('B', windowName, 0, 255, emptyFunction)\n",
    "    cv2.createTrackbar('G', windowName, 0, 255, emptyFunction)\n",
    "    cv2.createTrackbar('R', windowName, 0, 255, emptyFunction)\n",
    "    \n",
    "    # Actual function\n",
    "    while(True):\n",
    "        cv2.imshow(windowName, img)\n",
    "        \n",
    "        # If esc is hit, break\n",
    "        if cv2.waitKey(1) == 27:\n",
    "            break\n",
    "        \n",
    "        #getting RGB values based on trackbar locations\n",
    "        blue = cv2.getTrackbarPos('B', windowName)\n",
    "        green = cv2.getTrackbarPos('G', windowName)\n",
    "        red = cv2.getTrackbarPos('R', windowName)\n",
    "        \n",
    "        # Setting RGB Values into image\n",
    "        img[:] = [blue, green, red]\n",
    "        \n",
    "        print (blue, green, red)\n",
    "        \n",
    "    # Close window    \n",
    "    cv2.destroyAllWindows()\n",
    "\n",
    "if __name__ == \"__main__\":\n",
    "    main()"
   ]
  }
 ],
 "metadata": {
  "kernelspec": {
   "display_name": "Python 3",
   "language": "python",
   "name": "python3"
  },
  "language_info": {
   "codemirror_mode": {
    "name": "ipython",
    "version": 3
   },
   "file_extension": ".py",
   "mimetype": "text/x-python",
   "name": "python",
   "nbconvert_exporter": "python",
   "pygments_lexer": "ipython3",
   "version": "3.5.4"
  }
 },
 "nbformat": 4,
 "nbformat_minor": 2
}
